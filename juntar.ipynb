{
 "cells": [
  {
   "cell_type": "code",
   "execution_count": 1,
   "metadata": {},
   "outputs": [],
   "source": [
    "import pandas as pd\n",
    "import numpy as np\n",
    "import glob"
   ]
  },
  {
   "cell_type": "code",
   "execution_count": 2,
   "metadata": {},
   "outputs": [],
   "source": [
    "aux = 0\n",
    "todos = []\n",
    "for f in glob.glob(\"SSS_Per_Var_Cat/*.dat\"):\n",
    "    df=pd.read_table(f,sep='\\s+',header=None)\n",
    "    df.columns = [\"mjd\", \"v_mag\", \"err\"]\n",
    "    df[\"numerical_id\"] = f.split(\"/\")[1].split(\".\")[0]\n",
    "    todos.append(df)\n",
    "    #print(f.split(\"/\")[1].split(\".\")[0])\n",
    "df = pd.concat(todos,ignore_index='True')"
   ]
  },
  {
   "cell_type": "code",
   "execution_count": 7,
   "metadata": {},
   "outputs": [
    {
     "name": "stdout",
     "output_type": "stream",
     "text": [
      "      numerical_id           mjd    v_mag    err\n",
      "694  3045039050998  53714.547012  15.5216  0.084\n",
      "695  3045039050998  53714.556895  15.4814  0.082\n",
      "696  3045039050998  53714.566773  15.4716  0.082\n",
      "697  3045039050998  53714.576664  15.4799  0.082\n",
      "698  3045039050998  53734.673277  15.5808  0.096\n",
      "..             ...           ...      ...    ...\n",
      "904  3045039050998  56380.529392  15.6810  0.072\n",
      "905  3045039050998  56410.441418  15.5367  0.070\n",
      "906  3045039050998  56410.449876  15.5276  0.070\n",
      "907  3045039050998  56410.458346  15.5363  0.071\n",
      "908  3045039050998  56410.466809  15.5293  0.071\n",
      "\n",
      "[215 rows x 4 columns]\n"
     ]
    }
   ],
   "source": [
    "is_id = df.loc[:,'numerical_id'] == '3045039050998'\n",
    "df_id = df.loc[is_id]\n",
    "print(df_id)"
   ]
  },
  {
   "cell_type": "code",
   "execution_count": null,
   "metadata": {},
   "outputs": [],
   "source": [
    "print(df.loc)"
   ]
  },
  {
   "cell_type": "code",
   "execution_count": 3,
   "metadata": {},
   "outputs": [
    {
     "data": {
      "text/html": [
       "<div>\n",
       "<style scoped>\n",
       "    .dataframe tbody tr th:only-of-type {\n",
       "        vertical-align: middle;\n",
       "    }\n",
       "\n",
       "    .dataframe tbody tr th {\n",
       "        vertical-align: top;\n",
       "    }\n",
       "\n",
       "    .dataframe thead th {\n",
       "        text-align: right;\n",
       "    }\n",
       "</style>\n",
       "<table border=\"1\" class=\"dataframe\">\n",
       "  <thead>\n",
       "    <tr style=\"text-align: right;\">\n",
       "      <th></th>\n",
       "      <th>numerical_id</th>\n",
       "      <th>mjd</th>\n",
       "      <th>v_mag</th>\n",
       "      <th>err</th>\n",
       "    </tr>\n",
       "  </thead>\n",
       "  <tbody>\n",
       "    <tr>\n",
       "      <th>0</th>\n",
       "      <td>3029041042208</td>\n",
       "      <td>55244.531967</td>\n",
       "      <td>14.3153</td>\n",
       "      <td>0.062</td>\n",
       "    </tr>\n",
       "    <tr>\n",
       "      <th>1</th>\n",
       "      <td>3029041042208</td>\n",
       "      <td>55326.361922</td>\n",
       "      <td>14.1535</td>\n",
       "      <td>0.066</td>\n",
       "    </tr>\n",
       "    <tr>\n",
       "      <th>2</th>\n",
       "      <td>3029041042208</td>\n",
       "      <td>55170.696879</td>\n",
       "      <td>14.2293</td>\n",
       "      <td>0.061</td>\n",
       "    </tr>\n",
       "    <tr>\n",
       "      <th>3</th>\n",
       "      <td>3029041042208</td>\n",
       "      <td>55569.645529</td>\n",
       "      <td>14.3761</td>\n",
       "      <td>0.063</td>\n",
       "    </tr>\n",
       "    <tr>\n",
       "      <th>4</th>\n",
       "      <td>3029041042208</td>\n",
       "      <td>55210.626133</td>\n",
       "      <td>14.4054</td>\n",
       "      <td>0.060</td>\n",
       "    </tr>\n",
       "    <tr>\n",
       "      <th>...</th>\n",
       "      <td>...</td>\n",
       "      <td>...</td>\n",
       "      <td>...</td>\n",
       "      <td>...</td>\n",
       "    </tr>\n",
       "    <tr>\n",
       "      <th>8453890</th>\n",
       "      <td>3045060082467</td>\n",
       "      <td>56390.569547</td>\n",
       "      <td>17.1461</td>\n",
       "      <td>0.123</td>\n",
       "    </tr>\n",
       "    <tr>\n",
       "      <th>8453891</th>\n",
       "      <td>3045060082467</td>\n",
       "      <td>56414.483540</td>\n",
       "      <td>17.3118</td>\n",
       "      <td>0.097</td>\n",
       "    </tr>\n",
       "    <tr>\n",
       "      <th>8453892</th>\n",
       "      <td>3045060082467</td>\n",
       "      <td>56414.498567</td>\n",
       "      <td>17.1985</td>\n",
       "      <td>0.094</td>\n",
       "    </tr>\n",
       "    <tr>\n",
       "      <th>8453893</th>\n",
       "      <td>3045060082467</td>\n",
       "      <td>56414.513663</td>\n",
       "      <td>17.2664</td>\n",
       "      <td>0.097</td>\n",
       "    </tr>\n",
       "    <tr>\n",
       "      <th>8453894</th>\n",
       "      <td>3045060082467</td>\n",
       "      <td>56414.528795</td>\n",
       "      <td>17.2802</td>\n",
       "      <td>0.097</td>\n",
       "    </tr>\n",
       "  </tbody>\n",
       "</table>\n",
       "<p>8453895 rows × 4 columns</p>\n",
       "</div>"
      ],
      "text/plain": [
       "          numerical_id           mjd    v_mag    err\n",
       "0        3029041042208  55244.531967  14.3153  0.062\n",
       "1        3029041042208  55326.361922  14.1535  0.066\n",
       "2        3029041042208  55170.696879  14.2293  0.061\n",
       "3        3029041042208  55569.645529  14.3761  0.063\n",
       "4        3029041042208  55210.626133  14.4054  0.060\n",
       "...                ...           ...      ...    ...\n",
       "8453890  3045060082467  56390.569547  17.1461  0.123\n",
       "8453891  3045060082467  56414.483540  17.3118  0.097\n",
       "8453892  3045060082467  56414.498567  17.1985  0.094\n",
       "8453893  3045060082467  56414.513663  17.2664  0.097\n",
       "8453894  3045060082467  56414.528795  17.2802  0.097\n",
       "\n",
       "[8453895 rows x 4 columns]"
      ]
     },
     "execution_count": 3,
     "metadata": {},
     "output_type": "execute_result"
    }
   ],
   "source": [
    "cols = df.columns.tolist()\n",
    "cols = cols[-1:] + cols[:-1]\n",
    "df = df[cols]\n",
    "df"
   ]
  },
  {
   "cell_type": "code",
   "execution_count": 4,
   "metadata": {},
   "outputs": [],
   "source": [
    "df.to_csv (r'/home/jonimott/Escritorio/detections.csv', index = False, header=True)"
   ]
  }
 ],
 "metadata": {
  "kernelspec": {
   "display_name": "Python 3",
   "language": "python",
   "name": "python3"
  },
  "language_info": {
   "codemirror_mode": {
    "name": "ipython",
    "version": 3
   },
   "file_extension": ".py",
   "mimetype": "text/x-python",
   "name": "python",
   "nbconvert_exporter": "python",
   "pygments_lexer": "ipython3",
   "version": "3.7.6"
  }
 },
 "nbformat": 4,
 "nbformat_minor": 4
}
